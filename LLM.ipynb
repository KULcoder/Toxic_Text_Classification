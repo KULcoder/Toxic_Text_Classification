{
 "cells": [
  {
   "cell_type": "markdown",
   "id": "80fc14a0",
   "metadata": {},
   "source": [
    "# How to use language model to do text classification?\n",
    "\n",
    "1. Set a pipeline for doing text classification using llm\n",
    "2. Set LORA for fine-tuning the llm"
   ]
  },
  {
   "cell_type": "markdown",
   "id": "feed2c41",
   "metadata": {},
   "source": [
    "## Dependencies"
   ]
  },
  {
   "cell_type": "code",
   "execution_count": 1,
   "id": "008d0703",
   "metadata": {},
   "outputs": [],
   "source": [
    "# BASICS\n",
    "import matplotlib.pyplot as plt\n",
    "import numpy as np\n",
    "import seaborn as sns\n",
    "import pandas as pd\n",
    "from tqdm import tqdm\n",
    "\n",
    "# DATA\n",
    "from data.process_data import load_train_data, load_test_data, load_data\n",
    "from torch.utils.data import Dataset, DataLoader\n",
    "\n",
    "# Model\n",
    "import torch\n",
    "import torch.nn as nn\n",
    "from transformers import pipeline\n",
    "from transformers import AutoModelForCausalLM, AutoTokenizer, AdamW\n",
    "from peft import LoraConfig, get_peft_model\n",
    "\n",
    "# EVALUATIONS\n",
    "from sklearn.metrics import confusion_matrix\n",
    "from sklearn.metrics import accuracy_score"
   ]
  },
  {
   "cell_type": "code",
   "execution_count": 2,
   "id": "b8435ea4",
   "metadata": {},
   "outputs": [],
   "source": [
    "# helper function\n",
    "def plot_cm(y_test, y_test_pred, name, labels=[1, 2, 3, 4, 5]):\n",
    "    # plot confusion matrix\n",
    "    \n",
    "    # modify those two lists back into 1, 0\n",
    "    y_test = (np.array(y_test) == 3082)*1\n",
    "    y_test_pred = (y_test_pred == 3082)*1\n",
    "    \n",
    "    cm = confusion_matrix(y_test, y_test_pred)\n",
    "    cm_df = pd.DataFrame(cm, index=labels, columns=labels)\n",
    "    \n",
    "    plt.figure(figsize=(5, 5))\n",
    "    sns.heatmap(cm_df, annot=True, cmap=plt.get_cmap('Blues'), fmt=\"d\")\n",
    "    plt.title(\"Confusion Matrix of \" + name)\n",
    "    plt.ylabel('Actual Values')\n",
    "    plt.xlabel('Predicted Values')\n",
    "    plt.show()"
   ]
  },
  {
   "cell_type": "markdown",
   "id": "9b1228f3",
   "metadata": {},
   "source": [
    "## Load Data"
   ]
  },
  {
   "cell_type": "code",
   "execution_count": 3,
   "id": "cbb1dab6",
   "metadata": {},
   "outputs": [
    {
     "name": "stdout",
     "output_type": "stream",
     "text": [
      "CPU times: user 2min 19s, sys: 540 ms, total: 2min 20s\n",
      "Wall time: 2min 20s\n"
     ]
    }
   ],
   "source": [
    "%%time\n",
    "X_train, X_test, y_train, y_test = load_data()"
   ]
  },
  {
   "cell_type": "code",
   "execution_count": 4,
   "id": "93dd61b7",
   "metadata": {},
   "outputs": [],
   "source": [
    "model_id = \"meta-llama/Llama-3.2-1B-Instruct\" # this will requires permit\n",
    "device = torch.device('cuda')\n",
    "\n",
    "tokenizer = AutoTokenizer.from_pretrained(model_id)\n",
    "tokenizer.pad_token = tokenizer.eos_token\n",
    "tokenizer.padding_side = \"right\"\n",
    "\n",
    "model = AutoModelForCausalLM.from_pretrained(model_id,\n",
    "                                            torch_dtype=torch.bfloat16).to(device)"
   ]
  },
  {
   "cell_type": "code",
   "execution_count": 5,
   "id": "ad7c7262",
   "metadata": {},
   "outputs": [],
   "source": [
    "prompt_template = \"The following comment is toxic, true or false:\\n\\nComment: {comment}\\nAnswer:\""
   ]
  },
  {
   "cell_type": "code",
   "execution_count": 6,
   "id": "6ada3f25",
   "metadata": {},
   "outputs": [],
   "source": [
    "new_y_train = [3082 if elem else 3641 for elem in y_train]\n",
    "new_y_test = [3082 if elem else 3641 for elem in y_test]\n",
    "new_X_train = [prompt_template.format(comment=sentence) for sentence in X_train]\n",
    "new_X_test = [prompt_template.format(comment=sentence) for sentence in X_test]"
   ]
  },
  {
   "cell_type": "code",
   "execution_count": 7,
   "id": "079cf683",
   "metadata": {},
   "outputs": [],
   "source": [
    "class Toxic_dataset(Dataset):\n",
    "    def __init__(self, X, y):\n",
    "\n",
    "        self.labels = torch.tensor(y, dtype=torch.long)\n",
    "\n",
    "        self.sentences = X\n",
    "\n",
    "    def __len__(self):\n",
    "        return len(self.labels)\n",
    "\n",
    "    def __getitem__(self, idx):\n",
    "        return self.sentences[idx], self.labels[idx]"
   ]
  },
  {
   "cell_type": "code",
   "execution_count": 8,
   "id": "279f79cb",
   "metadata": {},
   "outputs": [],
   "source": [
    "train_dataset = Toxic_dataset(new_X_train, new_y_train)\n",
    "train_dataloader = DataLoader(train_dataset, batch_size=1, shuffle=True)\n",
    "test_dataset = Toxic_dataset(new_X_test, new_y_test)\n",
    "test_dataloader = DataLoader(test_dataset, batch_size=1, shuffle=False)"
   ]
  },
  {
   "cell_type": "code",
   "execution_count": null,
   "id": "5318d1f4",
   "metadata": {},
   "outputs": [],
   "source": []
  },
  {
   "cell_type": "markdown",
   "id": "92fedc57",
   "metadata": {},
   "source": [
    "## Evaluate Before Training\n",
    "\n",
    "The method is not perfect...\n",
    "We are checking if the model is printing out True or False"
   ]
  },
  {
   "cell_type": "code",
   "execution_count": 9,
   "id": "179715ff",
   "metadata": {},
   "outputs": [],
   "source": [
    "train_dataloader = DataLoader(train_dataset, batch_size=1, shuffle=False)\n",
    "def make_predictions(model, loader):\n",
    "    model.eval()\n",
    "    y_test_pred = []\n",
    "\n",
    "    with torch.no_grad():\n",
    "        for X, y in tqdm(loader):\n",
    "            y = y.to(device)\n",
    "            \n",
    "            input_ids = tokenizer(X, return_tensors='pt')['input_ids'].to(device)\n",
    "            out = model(input_ids).logits[:,-1,:]\n",
    "            pred = out.argmax()\n",
    "            y_test_pred.append(pred.cpu().numpy())\n",
    "            \n",
    "    return np.array(y_test_pred)"
   ]
  },
  {
   "cell_type": "code",
   "execution_count": 10,
   "id": "5c976c9c",
   "metadata": {},
   "outputs": [
    {
     "name": "stderr",
     "output_type": "stream",
     "text": [
      "100%|█████████████████████████████████████| 25974/25974 [10:36<00:00, 40.78it/s]\n",
      "100%|███████████████████████████████████████| 2886/2886 [01:09<00:00, 41.29it/s]"
     ]
    },
    {
     "name": "stdout",
     "output_type": "stream",
     "text": [
      "CPU times: user 11min 46s, sys: 2.77 s, total: 11min 49s\n",
      "Wall time: 11min 46s\n"
     ]
    },
    {
     "name": "stderr",
     "output_type": "stream",
     "text": [
      "\n"
     ]
    }
   ],
   "source": [
    "%%time\n",
    "y_train_pred = make_predictions(model, train_dataloader)\n",
    "y_test_pred = make_predictions(model, test_dataloader)  "
   ]
  },
  {
   "cell_type": "code",
   "execution_count": 11,
   "id": "c4ac9dbb",
   "metadata": {},
   "outputs": [
    {
     "data": {
      "text/plain": [
       "0.37499037499037496"
      ]
     },
     "execution_count": 11,
     "metadata": {},
     "output_type": "execute_result"
    }
   ],
   "source": [
    "# train acc\n",
    "accuracy_score(new_y_train, y_train_pred)"
   ]
  },
  {
   "cell_type": "code",
   "execution_count": 12,
   "id": "1e36ef36",
   "metadata": {},
   "outputs": [
    {
     "data": {
      "text/plain": [
       "0.3665973665973666"
      ]
     },
     "execution_count": 12,
     "metadata": {},
     "output_type": "execute_result"
    }
   ],
   "source": [
    "# test acc\n",
    "accuracy_score(new_y_test, y_test_pred)"
   ]
  },
  {
   "cell_type": "code",
   "execution_count": 13,
   "id": "c21ae98c",
   "metadata": {},
   "outputs": [
    {
     "data": {
      "image/png": "[encoded data removed]",
      "text/plain": [
       "<Figure size 500x500 with 2 Axes>"
      ]
     },
     "metadata": {},
     "output_type": "display_data"
    }
   ],
   "source": [
    "plot_cm(new_y_test, y_test_pred, \"LLAMA without Fine-Tuning Classification\", [0, 1])"
   ]
  },
  {
   "cell_type": "code",
   "execution_count": null,
   "id": "464abfa1",
   "metadata": {},
   "outputs": [],
   "source": []
  },
  {
   "cell_type": "markdown",
   "id": "5445c045",
   "metadata": {},
   "source": [
    "## Train the model using LORA"
   ]
  },
  {
   "cell_type": "code",
   "execution_count": 14,
   "id": "09cd5568",
   "metadata": {},
   "outputs": [
    {
     "name": "stdout",
     "output_type": "stream",
     "text": [
      "trainable params: 6,815,744 || all params: 1,242,630,144 || trainable%: 0.5485\n"
     ]
    }
   ],
   "source": [
    "lora_config = LoraConfig(\n",
    "    r=64,  # Rank of the low-rank matrix\n",
    "    lora_alpha=32,  # Scaling factor\n",
    "    target_modules=[\"q_proj\", \"v_proj\"],  # Which modules to apply LoRA\n",
    "    lora_dropout=0.1,\n",
    "    bias=\"none\",\n",
    "    task_type=\"CAUSAL_LM\",  # Task type\n",
    ")\n",
    "lora_model = get_peft_model(model, lora_config)\n",
    "lora_model.print_trainable_parameters()"
   ]
  },
  {
   "cell_type": "code",
   "execution_count": 15,
   "id": "31b2285f",
   "metadata": {},
   "outputs": [],
   "source": [
    "# Training function\n",
    "train_dataloader = DataLoader(train_dataset, batch_size=1, shuffle=True)\n",
    "optimizer = torch.optim.AdamW(model.parameters(), lr=2e-5)\n",
    "criterion = nn.CrossEntropyLoss().to(device)\n",
    "def train_epoch(data_loader, model, optimizer):\n",
    "    size = len(data_loader.dataset)\n",
    "    num_batches = len(data_loader)\n",
    "    model.train()\n",
    "    train_loss, correct = 0, 0\n",
    "    step_count = 0\n",
    "    for X, y in tqdm(data_loader):\n",
    "        y = y.to(device)\n",
    "        \n",
    "        input_ids = tokenizer(X, return_tensors='pt')['input_ids'].to(device)\n",
    "        out = model(input_ids).logits[:,-1,:]\n",
    "        \n",
    "        loss = criterion(out, y)\n",
    "        train_loss += loss.item()\n",
    "        pred = out.argmax()\n",
    "        correct += (pred == y).type(torch.float).sum().item()\n",
    "\n",
    "        # Backpropagation\n",
    "        optimizer.zero_grad()\n",
    "        loss.backward()\n",
    "        optimizer.step()\n",
    "\n",
    "    average_train_loss = train_loss / num_batches\n",
    "    accuracy = correct / size\n",
    "    return accuracy, average_train_loss\n",
    "\n",
    "def eval_epoch(data_loader, model, optimizer):\n",
    "    size = len(data_loader.dataset)\n",
    "    num_batches = len(data_loader)\n",
    "    model.eval()\n",
    "    eval_loss = 0\n",
    "    correct = 0\n",
    "    for X, y in tqdm(data_loader):\n",
    "        y = y.to(device)\n",
    "        input_ids = tokenizer(X, return_tensors='pt')['input_ids'].to(device)\n",
    "        out = model(input_ids).logits[:,-1,:]\n",
    "        \n",
    "        loss = criterion(out, y)\n",
    "        eval_loss += loss.item()\n",
    "        pred = out.argmax()\n",
    "        correct += (pred == y).type(torch.float).sum().item()\n",
    "\n",
    "    average_eval_loss = eval_loss / num_batches\n",
    "    accuracy = correct / size\n",
    "    return accuracy, average_eval_loss"
   ]
  },
  {
   "cell_type": "code",
   "execution_count": 16,
   "id": "ad6e2346",
   "metadata": {},
   "outputs": [
    {
     "name": "stderr",
     "output_type": "stream",
     "text": [
      "100%|█████████████████████████████████████| 25974/25974 [42:22<00:00, 10.22it/s]"
     ]
    },
    {
     "name": "stdout",
     "output_type": "stream",
     "text": [
      "train accuracy 0.931\n"
     ]
    },
    {
     "name": "stderr",
     "output_type": "stream",
     "text": [
      "\n"
     ]
    }
   ],
   "source": [
    "# for epoch in tqdm(range(2)):\n",
    "train_accuracy, train_loss = train_epoch(train_dataloader, lora_model, optimizer)\n",
    "\n",
    "print(f'train accuracy {train_accuracy:.3f}')"
   ]
  },
  {
   "cell_type": "markdown",
   "id": "4ef97f6d",
   "metadata": {},
   "source": [
    "## Re-Evaluate After Fine-Tuning with LoRA"
   ]
  },
  {
   "cell_type": "code",
   "execution_count": 17,
   "id": "7e98d064",
   "metadata": {},
   "outputs": [
    {
     "name": "stderr",
     "output_type": "stream",
     "text": [
      "100%|█████████████████████████████████████| 25974/25974 [12:31<00:00, 34.58it/s]\n",
      "100%|███████████████████████████████████████| 2886/2886 [01:27<00:00, 33.14it/s]"
     ]
    },
    {
     "name": "stdout",
     "output_type": "stream",
     "text": [
      "CPU times: user 13min 57s, sys: 2.48 s, total: 14min\n",
      "Wall time: 13min 58s\n"
     ]
    },
    {
     "name": "stderr",
     "output_type": "stream",
     "text": [
      "\n"
     ]
    }
   ],
   "source": [
    "%%time\n",
    "train_dataloader = DataLoader(train_dataset, batch_size=1, shuffle=False)\n",
    "y_train_pred = make_predictions(lora_model, train_dataloader)\n",
    "y_test_pred = make_predictions(lora_model, test_dataloader)  "
   ]
  },
  {
   "cell_type": "code",
   "execution_count": 18,
   "id": "1210788d",
   "metadata": {},
   "outputs": [
    {
     "data": {
      "text/plain": [
       "0.9556864556864557"
      ]
     },
     "execution_count": 18,
     "metadata": {},
     "output_type": "execute_result"
    }
   ],
   "source": [
    "# train acc\n",
    "accuracy_score(new_y_train, y_train_pred)"
   ]
  },
  {
   "cell_type": "code",
   "execution_count": 19,
   "id": "be16c0ac",
   "metadata": {},
   "outputs": [
    {
     "data": {
      "text/plain": [
       "0.9494109494109494"
      ]
     },
     "execution_count": 19,
     "metadata": {},
     "output_type": "execute_result"
    }
   ],
   "source": [
    "# test acc\n",
    "accuracy_score(new_y_test, y_test_pred)"
   ]
  },
  {
   "cell_type": "code",
   "execution_count": 20,
   "id": "4f38935b",
   "metadata": {},
   "outputs": [
    {
     "data": {
      "image/png": "[encoded data removed]",
      "text/plain": [
       "<Figure size 500x500 with 2 Axes>"
      ]
     },
     "metadata": {},
     "output_type": "display_data"
    }
   ],
   "source": [
    "plot_cm(new_y_test, y_test_pred, \"Fine-Tuned LLAMA 1B Classification\", [0, 1])"
   ]
  },
  {
   "cell_type": "markdown",
   "id": "800fda94",
   "metadata": {},
   "source": [
    "## Error Analysis"
   ]
  },
  {
   "cell_type": "code",
   "execution_count": 46,
   "id": "277911d7",
   "metadata": {},
   "outputs": [],
   "source": [
    "false_preds_X = X_test[new_y_test != y_test_pred]\n",
    "false_y = y_test[new_y_test != y_test_pred]\n",
    "false_y_pred = y_test_pred[new_y_test != y_test_pred]"
   ]
  },
  {
   "cell_type": "code",
   "execution_count": 68,
   "id": "3538645d",
   "metadata": {},
   "outputs": [
    {
     "data": {
      "text/plain": [
       "'I LOVE MUDKIPS! MOAR MUDKIPS!'"
      ]
     },
     "execution_count": 68,
     "metadata": {},
     "output_type": "execute_result"
    }
   ],
   "source": [
    "false_preds[7]"
   ]
  },
  {
   "cell_type": "code",
   "execution_count": 73,
   "id": "7cb331c0",
   "metadata": {},
   "outputs": [
    {
     "data": {
      "text/plain": [
       "0"
      ]
     },
     "execution_count": 73,
     "metadata": {},
     "output_type": "execute_result"
    }
   ],
   "source": [
    "false_y[7]"
   ]
  },
  {
   "cell_type": "code",
   "execution_count": 71,
   "id": "a7f39bb3",
   "metadata": {},
   "outputs": [
    {
     "data": {
      "text/plain": [
       "' True'"
      ]
     },
     "execution_count": 71,
     "metadata": {},
     "output_type": "execute_result"
    }
   ],
   "source": [
    "tokenizer.decode(false_y_pred[7])"
   ]
  },
  {
   "cell_type": "code",
   "execution_count": 72,
   "id": "df1bdbb9",
   "metadata": {},
   "outputs": [
    {
     "data": {
      "text/plain": [
       "'Make that four, fifth is underway.  This is rediculous!   18:32, 29 Dec 2004 (UTC)'"
      ]
     },
     "execution_count": 72,
     "metadata": {},
     "output_type": "execute_result"
    }
   ],
   "source": [
    "false_preds[2]"
   ]
  },
  {
   "cell_type": "code",
   "execution_count": 74,
   "id": "6f530815",
   "metadata": {},
   "outputs": [
    {
     "data": {
      "text/plain": [
       "1"
      ]
     },
     "execution_count": 74,
     "metadata": {},
     "output_type": "execute_result"
    }
   ],
   "source": [
    "false_y[2]"
   ]
  },
  {
   "cell_type": "code",
   "execution_count": 75,
   "id": "dcd2a92b",
   "metadata": {},
   "outputs": [
    {
     "data": {
      "text/plain": [
       "' False'"
      ]
     },
     "execution_count": 75,
     "metadata": {},
     "output_type": "execute_result"
    }
   ],
   "source": [
    "tokenizer.decode(false_y_pred[2])"
   ]
  }
 ],
 "metadata": {
  "kernelspec": {
   "display_name": "Python 3 (ipykernel)",
   "language": "python",
   "name": "python3"
  },
  "language_info": {
   "codemirror_mode": {
    "name": "ipython",
    "version": 3
   },
   "file_extension": ".py",
   "mimetype": "text/x-python",
   "name": "python",
   "nbconvert_exporter": "python",
   "pygments_lexer": "ipython3",
   "version": "3.9.20"
  }
 },
 "nbformat": 4,
 "nbformat_minor": 5
}
