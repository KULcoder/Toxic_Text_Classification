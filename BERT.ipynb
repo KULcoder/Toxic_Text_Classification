{
 "cells": [
  {
   "cell_type": "markdown",
   "id": "75d9068c",
   "metadata": {},
   "source": [
    "# BERT\n",
    "Use bert and \\<CLS> token vector for classification"
   ]
  },
  {
   "cell_type": "markdown",
   "id": "0dce4e6c",
   "metadata": {},
   "source": [
    "## Dependencies"
   ]
  },
  {
   "cell_type": "code",
   "execution_count": 1,
   "id": "27bf007c",
   "metadata": {},
   "outputs": [],
   "source": [
    "# BASIC\n",
    "from tqdm import tqdm\n",
    "import copy\n",
    "import matplotlib.pyplot as plt\n",
    "import seaborn as sns\n",
    "import pandas as pd\n",
    "import numpy as np\n",
    "\n",
    "\n",
    "# DATA\n",
    "from data.process_data import load_train_data, load_test_data, load_data\n",
    "from torch.utils.data import Dataset, DataLoader\n",
    "from torch.utils.data.dataloader import default_collate\n",
    "\n",
    "# MODEL\n",
    "import torch\n",
    "from torch import nn\n",
    "import torch.nn.functional as F\n",
    "from transformers import BertForSequenceClassification, AdamW\n",
    "from transformers import AdamW, get_cosine_schedule_with_warmup, get_linear_schedule_with_warmup\n",
    "from transformers import BertTokenizer\n",
    "\n",
    "# EVALUATIONS\n",
    "from sklearn.metrics import confusion_matrix\n",
    "from sklearn.metrics import accuracy_score"
   ]
  },
  {
   "cell_type": "code",
   "execution_count": 2,
   "id": "0b4dff3f",
   "metadata": {},
   "outputs": [],
   "source": [
    "# helper function\n",
    "def plot_cm(y_test, y_test_pred, name, labels=[1, 2, 3, 4, 5]):\n",
    "    # plot confusion matrix\n",
    "    cm = confusion_matrix(y_test, y_test_pred)\n",
    "    cm_df = pd.DataFrame(cm, index=labels, columns=labels)\n",
    "    \n",
    "    plt.figure(figsize=(5, 5))\n",
    "    sns.heatmap(cm_df, annot=True, cmap=plt.get_cmap('Blues'), fmt=\"d\")\n",
    "    plt.title(\"Confusion Matrix of \" + name)\n",
    "    plt.ylabel('Actual Values')\n",
    "    plt.xlabel('Predicted Values')\n",
    "    plt.show()"
   ]
  },
  {
   "cell_type": "markdown",
   "id": "0a1dc082",
   "metadata": {},
   "source": [
    "## Prepare Data"
   ]
  },
  {
   "cell_type": "code",
   "execution_count": 3,
   "id": "3fa10716",
   "metadata": {},
   "outputs": [
    {
     "name": "stdout",
     "output_type": "stream",
     "text": [
      "CPU times: user 2min 21s, sys: 532 ms, total: 2min 22s\n",
      "Wall time: 2min 22s\n"
     ]
    }
   ],
   "source": [
    "%%time\n",
    "X_train, X_test, y_train, y_test = load_data()"
   ]
  },
  {
   "cell_type": "code",
   "execution_count": 4,
   "id": "d9ece501",
   "metadata": {},
   "outputs": [],
   "source": [
    "# %%time\n",
    "# X_test, y_test = load_test_data()\n",
    "# X_train, y_train = load_train_data()"
   ]
  },
  {
   "cell_type": "code",
   "execution_count": 5,
   "id": "64224506",
   "metadata": {},
   "outputs": [],
   "source": [
    "class Toxic_dataset(Dataset):\n",
    "    def __init__(self, X, y, tokenizer, max_len=128):\n",
    "\n",
    "        self.labels = torch.tensor(y)\n",
    "\n",
    "        self.encodings = tokenizer(\n",
    "            X,\n",
    "            truncation = True,\n",
    "            padding = True,\n",
    "            max_length = max_len,\n",
    "            return_tensors = 'pt'\n",
    "        )\n",
    "\n",
    "    def __len__(self):\n",
    "        return len(self.labels)\n",
    "\n",
    "    def __getitem__(self, idx):\n",
    "\n",
    "        item = {\n",
    "            'input_ids': self.encodings['input_ids'][idx],\n",
    "            'attention_mask': self.encodings['attention_mask'][idx],\n",
    "            'labels': self.labels[idx]\n",
    "        }\n",
    "        \n",
    "        return item"
   ]
  },
  {
   "cell_type": "code",
   "execution_count": 6,
   "id": "97795e8c",
   "metadata": {},
   "outputs": [
    {
     "name": "stdout",
     "output_type": "stream",
     "text": [
      "CPU times: user 30.8 s, sys: 52 ms, total: 30.8 s\n",
      "Wall time: 31.1 s\n"
     ]
    }
   ],
   "source": [
    "%%time\n",
    "tokenizer = BertTokenizer.from_pretrained('bert-base-uncased')\n",
    "# train dataloader\n",
    "train_dataset = Toxic_dataset(X_train.tolist(), y_train, tokenizer)\n",
    "train_dataloader = DataLoader(train_dataset, batch_size=32, shuffle=True)\n",
    "# test dataloader\n",
    "test_dataset = Toxic_dataset(X_test.tolist(), y_test, tokenizer)\n",
    "test_dataloader = DataLoader(test_dataset, batch_size=32, shuffle=False)"
   ]
  },
  {
   "cell_type": "markdown",
   "id": "adbb6446",
   "metadata": {},
   "source": [
    "## Construct Model"
   ]
  },
  {
   "cell_type": "code",
   "execution_count": 7,
   "id": "55985e3f",
   "metadata": {},
   "outputs": [
    {
     "name": "stderr",
     "output_type": "stream",
     "text": [
      "Some weights of BertForSequenceClassification were not initialized from the model checkpoint at bert-base-uncased and are newly initialized: ['classifier.bias', 'classifier.weight']\n",
      "You should probably TRAIN this model on a down-stream task to be able to use it for predictions and inference.\n",
      "/home/keyulong/miniconda3/envs/CSE256/lib/python3.9/site-packages/transformers/optimization.py:591: FutureWarning: This implementation of AdamW is deprecated and will be removed in a future version. Use the PyTorch implementation torch.optim.AdamW instead, or set `no_deprecation_warning=True` to disable this warning\n",
      "  warnings.warn(\n"
     ]
    }
   ],
   "source": [
    "device = torch.device('cuda' if torch.cuda.is_available() else 'cpu')\n",
    "model = BertForSequenceClassification.from_pretrained('bert-base-uncased').to(device)\n",
    "for param in model.bert.parameters():\n",
    "    param.requires_grad = True\n",
    "for param in model.classifier.parameters():\n",
    "    param.requires_grad = True\n",
    "optimizer = AdamW(model.parameters(), lr=2e-5)\n",
    "# Training function\n",
    "def train_epoch(data_loader, model, optimizer):\n",
    "    size = len(data_loader.dataset)\n",
    "    num_batches = len(data_loader)\n",
    "    model.train()\n",
    "    train_loss, correct = 0, 0\n",
    "    for batch in data_loader:\n",
    "        \n",
    "        input_ids = batch['input_ids'].to(device)\n",
    "        attention_mask = batch['attention_mask'].to(device)\n",
    "        labels = batch['labels'].to(device)\n",
    "\n",
    "        # Compute prediction error\n",
    "        outputs = model(\n",
    "            input_ids,\n",
    "            attention_mask = attention_mask,\n",
    "            labels = labels\n",
    "        )\n",
    "        loss = outputs.loss\n",
    "        train_loss += loss.item()\n",
    "        pred = outputs.logits\n",
    "        correct += (pred.argmax(1) == labels).type(torch.float).sum().item()\n",
    "\n",
    "        # Backpropagation\n",
    "        optimizer.zero_grad()\n",
    "        loss.backward()\n",
    "        optimizer.step()\n",
    "\n",
    "    average_train_loss = train_loss / num_batches\n",
    "    accuracy = correct / size\n",
    "    return accuracy, average_train_loss\n",
    "\n",
    "def eval_epoch(data_loader, model, optimizer):\n",
    "    size = len(data_loader.dataset)\n",
    "    num_batches = len(data_loader)\n",
    "    model.eval()\n",
    "    eval_loss = 0\n",
    "    correct = 0\n",
    "    for batch, batch in enumerate(data_loader):\n",
    "        input_ids = batch['input_ids'].to(device)\n",
    "        attention_mask = batch['attention_mask'].to(device)\n",
    "        labels = batch['labels'].to(device)\n",
    "\n",
    "        # Compute prediction error\n",
    "        outputs = model(\n",
    "            input_ids,\n",
    "            attention_mask = attention_mask,\n",
    "            labels = labels\n",
    "        )\n",
    "\n",
    "        # Compute prediction error\n",
    "        pred = outputs.logits\n",
    "        loss = outputs.loss\n",
    "        eval_loss += loss.item()\n",
    "        correct += (pred.argmax(1) == labels).type(torch.float).sum().item()\n",
    "\n",
    "    average_eval_loss = eval_loss / num_batches\n",
    "    accuracy = correct / size\n",
    "    return accuracy, average_eval_loss"
   ]
  },
  {
   "cell_type": "code",
   "execution_count": 8,
   "id": "0e8deef5",
   "metadata": {
    "scrolled": false
   },
   "outputs": [
    {
     "name": "stdout",
     "output_type": "stream",
     "text": [
      "train accuracy 0.920\n"
     ]
    }
   ],
   "source": [
    "all_train_accuracy = []\n",
    "all_test_accuracy = []\n",
    "best_model = None\n",
    "train_accuracy, train_loss = train_epoch(train_dataloader, model, optimizer)\n",
    "all_train_accuracy.append(train_accuracy)\n",
    "\n",
    "print(f'train accuracy {train_accuracy:.3f}')"
   ]
  },
  {
   "cell_type": "markdown",
   "id": "cd9da873",
   "metadata": {},
   "source": [
    "## Evaluate the Result"
   ]
  },
  {
   "cell_type": "code",
   "execution_count": 9,
   "id": "f29cd633",
   "metadata": {},
   "outputs": [],
   "source": [
    "train_dataloader = DataLoader(train_dataset, batch_size=32, shuffle=False)\n",
    "def make_predictions(model, loader):\n",
    "    model.eval()\n",
    "    y_test_pred = []\n",
    "    y_true = []\n",
    "    \n",
    "    with torch.no_grad():\n",
    "        for batch in loader:\n",
    "            input_ids = batch['input_ids'].to(device)\n",
    "            attention_mask = batch['attention_mask'].to(device)\n",
    "            \n",
    "            outputs = model(\n",
    "                input_ids,\n",
    "                attention_mask = attention_mask\n",
    "            )\n",
    "            _, preds = torch.max(outputs.logits, 1)\n",
    "            y_test_pred.append(preds.cpu().numpy())\n",
    "            \n",
    "    return np.concatenate(y_test_pred)"
   ]
  },
  {
   "cell_type": "code",
   "execution_count": 10,
   "id": "cc39550c",
   "metadata": {},
   "outputs": [
    {
     "name": "stdout",
     "output_type": "stream",
     "text": [
      "CPU times: user 1min 40s, sys: 55.4 ms, total: 1min 40s\n",
      "Wall time: 1min 40s\n"
     ]
    }
   ],
   "source": [
    "%%time\n",
    "y_train_pred = make_predictions(model, train_dataloader)\n",
    "y_test_pred = make_predictions(model, test_dataloader)"
   ]
  },
  {
   "cell_type": "code",
   "execution_count": 11,
   "id": "8a43513a",
   "metadata": {},
   "outputs": [
    {
     "data": {
      "text/plain": [
       "0.9655039655039656"
      ]
     },
     "execution_count": 11,
     "metadata": {},
     "output_type": "execute_result"
    }
   ],
   "source": [
    "# train acc\n",
    "accuracy_score(y_train, y_train_pred)"
   ]
  },
  {
   "cell_type": "code",
   "execution_count": 12,
   "id": "88391398",
   "metadata": {},
   "outputs": [
    {
     "data": {
      "text/plain": [
       "0.9352044352044352"
      ]
     },
     "execution_count": 12,
     "metadata": {},
     "output_type": "execute_result"
    }
   ],
   "source": [
    "# test acc\n",
    "accuracy_score(y_test, y_test_pred)"
   ]
  },
  {
   "cell_type": "code",
   "execution_count": 13,
   "id": "cfcc17e6",
   "metadata": {},
   "outputs": [
    {
     "data": {
      "image/png": "[encoded data removed]",
      "text/plain": [
       "<Figure size 500x500 with 2 Axes>"
      ]
     },
     "metadata": {},
     "output_type": "display_data"
    }
   ],
   "source": [
    "plot_cm(y_test, y_test_pred, \"BERT Classification\", [0, 1])"
   ]
  },
  {
   "cell_type": "code",
   "execution_count": null,
   "id": "91ddf4e1",
   "metadata": {},
   "outputs": [],
   "source": []
  }
 ],
 "metadata": {
  "kernelspec": {
   "display_name": "Python 3 (ipykernel)",
   "language": "python",
   "name": "python3"
  },
  "language_info": {
   "codemirror_mode": {
    "name": "ipython",
    "version": 3
   },
   "file_extension": ".py",
   "mimetype": "text/x-python",
   "name": "python",
   "nbconvert_exporter": "python",
   "pygments_lexer": "ipython3",
   "version": "3.9.20"
  }
 },
 "nbformat": 4,
 "nbformat_minor": 5
}
